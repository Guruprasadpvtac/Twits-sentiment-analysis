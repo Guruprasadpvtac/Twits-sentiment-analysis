{
  "nbformat": 4,
  "nbformat_minor": 0,
  "metadata": {
    "colab": {
      "name": "Untitled0.ipynb",
      "provenance": [],
      "collapsed_sections": [],
      "authorship_tag": "ABX9TyNTJ0C/WjTo3t38I+aJKlOY",
      "include_colab_link": true
    },
    "kernelspec": {
      "name": "python3",
      "display_name": "Python 3"
    }
  },
  "cells": [
    {
      "cell_type": "markdown",
      "metadata": {
        "id": "view-in-github",
        "colab_type": "text"
      },
      "source": [
        "<a href=\"https://colab.research.google.com/github/Guruprasadpvtac/Twits-sentiment-analysis/blob/master/TwitterSentimentAnalysis.ipynb\" target=\"_parent\"><img src=\"https://colab.research.google.com/assets/colab-badge.svg\" alt=\"Open In Colab\"/></a>"
      ]
    },
    {
      "cell_type": "code",
      "metadata": {
        "id": "nJ60FbnBXZIX",
        "colab_type": "code",
        "colab": {}
      },
      "source": [
        "# Description : This is a sentiment analysis program that parses the tweets fetched from Twitter using Python"
      ],
      "execution_count": null,
      "outputs": []
    },
    {
      "cell_type": "code",
      "metadata": {
        "id": "vdIUQcnTXmYr",
        "colab_type": "code",
        "colab": {}
      },
      "source": [
        "# Import the libraries\n",
        "import tweepy\n",
        "from textblob import TextBlob\n",
        "from wordcloud import WordCloud\n",
        "import pandas as pd\n",
        "import numpy as np\n",
        "import re\n",
        "import matplotlib.pyplot as plt\n",
        "plt.style.use('fivethirtyeight')"
      ],
      "execution_count": 1,
      "outputs": []
    },
    {
      "cell_type": "code",
      "metadata": {
        "id": "R3tA7hwCXkcl",
        "colab_type": "code",
        "colab": {}
      },
      "source": [
        "# Twitter Api Credentials\n",
        "consumerKey = \"EJED5ffKjikyqZV9mnIPn1jh8\"\n",
        "consumerSecret = \"CKg3FpuVxfk11iGSXkecGJvhiiHn4BI65KsIsjLLuK7qXVQJdQ\"\n",
        "accessToken = \"1293447300824481792-Pbb9yRXx6B7u8PhJV9XJUvijQFbofP\"\n",
        "accessTokenSecret = \"AbQLehZuONkLa725fLfdLPMt9FLTD04Sm9IQqLiCOA7Ki\""
      ],
      "execution_count": 2,
      "outputs": []
    },
    {
      "cell_type": "code",
      "metadata": {
        "id": "3MAMry0IaCkX",
        "colab_type": "code",
        "colab": {
          "base_uri": "https://localhost:8080/",
          "height": 538
        },
        "outputId": "3465d12a-afd4-4062-c535-581fbf31f67b"
      },
      "source": [
        "pip install pandas profiling"
      ],
      "execution_count": 10,
      "outputs": [
        {
          "output_type": "stream",
          "text": [
            "Requirement already satisfied: pandas in /usr/local/lib/python3.6/dist-packages (1.0.5)\n",
            "Collecting profiling\n",
            "  Downloading https://files.pythonhosted.org/packages/46/0e/6a58c06479b458a043a8ca217096328218606d9f2f84ae4ce58c67ca70fb/profiling-0.1.3.tar.gz\n",
            "Requirement already satisfied: numpy>=1.13.3 in /usr/local/lib/python3.6/dist-packages (from pandas) (1.18.5)\n",
            "Requirement already satisfied: pytz>=2017.2 in /usr/local/lib/python3.6/dist-packages (from pandas) (2018.9)\n",
            "Requirement already satisfied: python-dateutil>=2.6.1 in /usr/local/lib/python3.6/dist-packages (from pandas) (2.8.1)\n",
            "Collecting valuedispatch>=0.0.1\n",
            "  Downloading https://files.pythonhosted.org/packages/a9/ef/62c27299f737931ec6a19877d6dba0276527309e36f48c2e014ff0705269/valuedispatch-0.0.1.tar.gz\n",
            "Requirement already satisfied: click>=4.1 in /usr/local/lib/python3.6/dist-packages (from profiling) (7.1.2)\n",
            "Collecting click-default-group>=1.2\n",
            "  Downloading https://files.pythonhosted.org/packages/22/3a/e9feb3435bd4b002d183fcb9ee08fb369a7e570831ab1407bc73f079948f/click-default-group-1.2.2.tar.gz\n",
            "Requirement already satisfied: six>=1.8.0 in /usr/local/lib/python3.6/dist-packages (from profiling) (1.15.0)\n",
            "Collecting urwid>=1.2.1\n",
            "\u001b[?25l  Downloading https://files.pythonhosted.org/packages/c0/b0/e4e8597cf93411cc85a70766227c8a113b153b7022699a080d22fac28a00/urwid-2.1.1.tar.gz (633kB)\n",
            "\u001b[K     |████████████████████████████████| 634kB 6.8MB/s \n",
            "\u001b[?25hBuilding wheels for collected packages: profiling, valuedispatch, click-default-group, urwid\n",
            "  Building wheel for profiling (setup.py) ... \u001b[?25l\u001b[?25hdone\n",
            "  Created wheel for profiling: filename=profiling-0.1.3-cp36-cp36m-linux_x86_64.whl size=50075 sha256=d752dc413d4a67c01ef84919aec4af16509cf3e22e5e57e4c4a7b0652a15897e\n",
            "  Stored in directory: /root/.cache/pip/wheels/d9/3e/be/a50bacf7b03485684d992c67887390b418ab9e84e925d07283\n",
            "  Building wheel for valuedispatch (setup.py) ... \u001b[?25l\u001b[?25hdone\n",
            "  Created wheel for valuedispatch: filename=valuedispatch-0.0.1-cp36-none-any.whl size=2021 sha256=c7631321842ce3708ed2ec0327142481e26e25ab5f3b6287cfe25570a0e68a72\n",
            "  Stored in directory: /root/.cache/pip/wheels/af/d2/1a/8326b4eaca6260bf7a905c68e7efe4a701c8af5eb7fab93ca2\n",
            "  Building wheel for click-default-group (setup.py) ... \u001b[?25l\u001b[?25hdone\n",
            "  Created wheel for click-default-group: filename=click_default_group-1.2.2-cp36-none-any.whl size=3385 sha256=128e58ce02144a524fe594b891e3630858323d7686b3ce7527bab8659b7f2a12\n",
            "  Stored in directory: /root/.cache/pip/wheels/ca/ed/79/2200269c285b0d21ab4591c6388a14691a4fc77d76bec40fe2\n",
            "  Building wheel for urwid (setup.py) ... \u001b[?25l\u001b[?25hdone\n",
            "  Created wheel for urwid: filename=urwid-2.1.1-cp36-cp36m-linux_x86_64.whl size=256820 sha256=c74fadcf554cc2628de79bc73093a1ea481a013239fc6b776783975ff64c28fe\n",
            "  Stored in directory: /root/.cache/pip/wheels/3d/a4/73/163a3649fa1edf457575473e7b3a6bcf1b09ee70a3c8c6ee2d\n",
            "Successfully built profiling valuedispatch click-default-group urwid\n",
            "Installing collected packages: valuedispatch, click-default-group, urwid, profiling\n",
            "Successfully installed click-default-group-1.2.2 profiling-0.1.3 urwid-2.1.1 valuedispatch-0.0.1\n"
          ],
          "name": "stdout"
        }
      ]
    },
    {
      "cell_type": "code",
      "metadata": {
        "id": "uw9mocEmaLhe",
        "colab_type": "code",
        "colab": {
          "base_uri": "https://localhost:8080/",
          "height": 185
        },
        "outputId": "71f02a87-9c19-4852-daa7-a7d99cd3d17f"
      },
      "source": [
        "pip install tweepy"
      ],
      "execution_count": 11,
      "outputs": [
        {
          "output_type": "stream",
          "text": [
            "Requirement already satisfied: tweepy in /usr/local/lib/python3.6/dist-packages (3.6.0)\n",
            "Requirement already satisfied: six>=1.10.0 in /usr/local/lib/python3.6/dist-packages (from tweepy) (1.15.0)\n",
            "Requirement already satisfied: PySocks>=1.5.7 in /usr/local/lib/python3.6/dist-packages (from tweepy) (1.7.1)\n",
            "Requirement already satisfied: requests>=2.11.1 in /usr/local/lib/python3.6/dist-packages (from tweepy) (2.23.0)\n",
            "Requirement already satisfied: requests-oauthlib>=0.7.0 in /usr/local/lib/python3.6/dist-packages (from tweepy) (1.3.0)\n",
            "Requirement already satisfied: chardet<4,>=3.0.2 in /usr/local/lib/python3.6/dist-packages (from requests>=2.11.1->tweepy) (3.0.4)\n",
            "Requirement already satisfied: certifi>=2017.4.17 in /usr/local/lib/python3.6/dist-packages (from requests>=2.11.1->tweepy) (2020.6.20)\n",
            "Requirement already satisfied: urllib3!=1.25.0,!=1.25.1,<1.26,>=1.21.1 in /usr/local/lib/python3.6/dist-packages (from requests>=2.11.1->tweepy) (1.24.3)\n",
            "Requirement already satisfied: idna<3,>=2.5 in /usr/local/lib/python3.6/dist-packages (from requests>=2.11.1->tweepy) (2.10)\n",
            "Requirement already satisfied: oauthlib>=3.0.0 in /usr/local/lib/python3.6/dist-packages (from requests-oauthlib>=0.7.0->tweepy) (3.1.0)\n"
          ],
          "name": "stdout"
        }
      ]
    },
    {
      "cell_type": "code",
      "metadata": {
        "id": "-ZBjNqBbaZAn",
        "colab_type": "code",
        "colab": {}
      },
      "source": [
        "# Create the authentication object\n",
        "authenticate = tweepy.OAuthHandler(consumerKey, consumerSecret) \n",
        "    \n",
        "# Set the access token and access token secret\n",
        "authenticate.set_access_token(accessToken, accessTokenSecret) \n",
        "    \n",
        "# Creating the API object while passing in auth information\n",
        "api = tweepy.API(authenticate, wait_on_rate_limit = True)"
      ],
      "execution_count": 3,
      "outputs": []
    },
    {
      "cell_type": "code",
      "metadata": {
        "id": "gGXwSXbBBGvn",
        "colab_type": "code",
        "colab": {
          "base_uri": "https://localhost:8080/",
          "height": 373
        },
        "outputId": "a715c234-82a7-4bc7-e402-9a2a06041fa6"
      },
      "source": [
        "# Extract 100 tweets from the twitter user\n",
        "posts = api.user_timeline(screen_name=\"BillGates\", count = 100, lang =\"en\", tweet_mode=\"extended\")\n",
        "\n",
        "#  Print the last 5 tweets\n",
        "print(\"Show the 5 recent tweets:\\n\")\n",
        "i=1\n",
        "for tweet in posts[:5]:\n",
        "    print(str(i) +') '+ tweet.full_text + '\\n')"
      ],
      "execution_count": 4,
      "outputs": [
        {
          "output_type": "stream",
          "text": [
            "Show the 5 recent tweets:\n",
            "\n",
            "1) RT @antonioguterres: Last month, over 1 billion students were affected by #COVID19 school closures.\n",
            "\n",
            "Even before the pandemic, the world wa…\n",
            "\n",
            "1) Our foundation is partnering with @DonorsChoose to support teachers as they get ready to go back to school—in whatever form that takes—and will boost your donations to the classroom project of your choice today. https://t.co/nh3CnQI9vm\n",
            "\n",
            "1) I always look forward to meeting Washington’s Teacher of the Year. This year’s recipient, Amy Campbell (@The_MrsCampbell), is a remarkable advocate for her students, and I loved learning about her approach to teaching special ed. https://t.co/kIMB19cK5S\n",
            "\n",
            "1) Bill Foege was instrumental in the effort to eradicate smallpox (and is a personal hero of mine). Here he outlines how lessons learned from that campaign can apply to the fight against COVID-19. https://t.co/Ns8WvO9E4h\n",
            "\n",
            "1) The world did not do enough to prepare for a pandemic. We can avoid making the same mistake with climate change by:\n",
            "\n",
            "1. Letting science and innovation lead the way\n",
            "2. Making sure solutions work for poor countries too\n",
            "3. Getting started now\n",
            "\n",
            "https://t.co/p9m1j5QuJ7\n",
            "\n"
          ],
          "name": "stdout"
        }
      ]
    },
    {
      "cell_type": "code",
      "metadata": {
        "id": "XHyFf1EKBVjn",
        "colab_type": "code",
        "colab": {
          "base_uri": "https://localhost:8080/",
          "height": 195
        },
        "outputId": "d2c9dc75-e34c-4913-86c4-83c806a114fa"
      },
      "source": [
        "# Create a dataframe with a column called Tweets\n",
        "df = pd.DataFrame([tweet.full_text for tweet in posts], columns=['Tweets'])\n",
        "# Show the first 5 rows of data\n",
        "df.head()"
      ],
      "execution_count": 5,
      "outputs": [
        {
          "output_type": "execute_result",
          "data": {
            "text/html": [
              "<div>\n",
              "<style scoped>\n",
              "    .dataframe tbody tr th:only-of-type {\n",
              "        vertical-align: middle;\n",
              "    }\n",
              "\n",
              "    .dataframe tbody tr th {\n",
              "        vertical-align: top;\n",
              "    }\n",
              "\n",
              "    .dataframe thead th {\n",
              "        text-align: right;\n",
              "    }\n",
              "</style>\n",
              "<table border=\"1\" class=\"dataframe\">\n",
              "  <thead>\n",
              "    <tr style=\"text-align: right;\">\n",
              "      <th></th>\n",
              "      <th>Tweets</th>\n",
              "    </tr>\n",
              "  </thead>\n",
              "  <tbody>\n",
              "    <tr>\n",
              "      <th>0</th>\n",
              "      <td>RT @antonioguterres: Last month, over 1 billio...</td>\n",
              "    </tr>\n",
              "    <tr>\n",
              "      <th>1</th>\n",
              "      <td>Our foundation is partnering with @DonorsChoos...</td>\n",
              "    </tr>\n",
              "    <tr>\n",
              "      <th>2</th>\n",
              "      <td>I always look forward to meeting Washington’s ...</td>\n",
              "    </tr>\n",
              "    <tr>\n",
              "      <th>3</th>\n",
              "      <td>Bill Foege was instrumental in the effort to e...</td>\n",
              "    </tr>\n",
              "    <tr>\n",
              "      <th>4</th>\n",
              "      <td>The world did not do enough to prepare for a p...</td>\n",
              "    </tr>\n",
              "  </tbody>\n",
              "</table>\n",
              "</div>"
            ],
            "text/plain": [
              "                                              Tweets\n",
              "0  RT @antonioguterres: Last month, over 1 billio...\n",
              "1  Our foundation is partnering with @DonorsChoos...\n",
              "2  I always look forward to meeting Washington’s ...\n",
              "3  Bill Foege was instrumental in the effort to e...\n",
              "4  The world did not do enough to prepare for a p..."
            ]
          },
          "metadata": {
            "tags": []
          },
          "execution_count": 5
        }
      ]
    },
    {
      "cell_type": "code",
      "metadata": {
        "id": "pNRvGruMBccu",
        "colab_type": "code",
        "colab": {
          "base_uri": "https://localhost:8080/",
          "height": 402
        },
        "outputId": "ed7fc650-24a7-4baa-b9a1-d043d6fbfecd"
      },
      "source": [
        "# Create a function to clean the tweets\n",
        "def cleanTxt(text):\n",
        " text = re.sub('@[A-Za-z0–9]+', '', text) #Removing @mentions\n",
        " text = re.sub('#', '', text) # Removing '#' hash tag\n",
        " text = re.sub('RT[\\s]+', '', text) # Removing RT\n",
        " text = re.sub('https?:\\/\\/\\S+', '', text) # Removing hyperlink\n",
        " \n",
        " return text\n",
        "\n",
        "\n",
        "# Clean the tweets\n",
        "df['Tweets'] = df['Tweets'].apply(cleanTxt)\n",
        "\n",
        "# Show the cleaned tweets\n",
        "df"
      ],
      "execution_count": 6,
      "outputs": [
        {
          "output_type": "execute_result",
          "data": {
            "text/html": [
              "<div>\n",
              "<style scoped>\n",
              "    .dataframe tbody tr th:only-of-type {\n",
              "        vertical-align: middle;\n",
              "    }\n",
              "\n",
              "    .dataframe tbody tr th {\n",
              "        vertical-align: top;\n",
              "    }\n",
              "\n",
              "    .dataframe thead th {\n",
              "        text-align: right;\n",
              "    }\n",
              "</style>\n",
              "<table border=\"1\" class=\"dataframe\">\n",
              "  <thead>\n",
              "    <tr style=\"text-align: right;\">\n",
              "      <th></th>\n",
              "      <th>Tweets</th>\n",
              "    </tr>\n",
              "  </thead>\n",
              "  <tbody>\n",
              "    <tr>\n",
              "      <th>0</th>\n",
              "      <td>: Last month, over 1 billion students were aff...</td>\n",
              "    </tr>\n",
              "    <tr>\n",
              "      <th>1</th>\n",
              "      <td>Our foundation is partnering with  to support ...</td>\n",
              "    </tr>\n",
              "    <tr>\n",
              "      <th>2</th>\n",
              "      <td>I always look forward to meeting Washington’s ...</td>\n",
              "    </tr>\n",
              "    <tr>\n",
              "      <th>3</th>\n",
              "      <td>Bill Foege was instrumental in the effort to e...</td>\n",
              "    </tr>\n",
              "    <tr>\n",
              "      <th>4</th>\n",
              "      <td>The world did not do enough to prepare for a p...</td>\n",
              "    </tr>\n",
              "    <tr>\n",
              "      <th>...</th>\n",
              "      <td>...</td>\n",
              "    </tr>\n",
              "    <tr>\n",
              "      <th>95</th>\n",
              "      <td>We’re hopeful that our foundation’s work with ...</td>\n",
              "    </tr>\n",
              "    <tr>\n",
              "      <th>96</th>\n",
              "      <td>It was a magical night. I'm very happy to supp...</td>\n",
              "    </tr>\n",
              "    <tr>\n",
              "      <th>97</th>\n",
              "      <td>Vaccines are a miracle. But how exactly do the...</td>\n",
              "    </tr>\n",
              "    <tr>\n",
              "      <th>98</th>\n",
              "      <td>Science is giving us the opportunity to improv...</td>\n",
              "    </tr>\n",
              "    <tr>\n",
              "      <th>99</th>\n",
              "      <td>This is an incredible story about the power of...</td>\n",
              "    </tr>\n",
              "  </tbody>\n",
              "</table>\n",
              "<p>100 rows × 1 columns</p>\n",
              "</div>"
            ],
            "text/plain": [
              "                                               Tweets\n",
              "0   : Last month, over 1 billion students were aff...\n",
              "1   Our foundation is partnering with  to support ...\n",
              "2   I always look forward to meeting Washington’s ...\n",
              "3   Bill Foege was instrumental in the effort to e...\n",
              "4   The world did not do enough to prepare for a p...\n",
              "..                                                ...\n",
              "95  We’re hopeful that our foundation’s work with ...\n",
              "96  It was a magical night. I'm very happy to supp...\n",
              "97  Vaccines are a miracle. But how exactly do the...\n",
              "98  Science is giving us the opportunity to improv...\n",
              "99  This is an incredible story about the power of...\n",
              "\n",
              "[100 rows x 1 columns]"
            ]
          },
          "metadata": {
            "tags": []
          },
          "execution_count": 6
        }
      ]
    },
    {
      "cell_type": "code",
      "metadata": {
        "id": "JddlvzSZBoSz",
        "colab_type": "code",
        "colab": {
          "base_uri": "https://localhost:8080/",
          "height": 402
        },
        "outputId": "cbbf706d-adba-41d5-90a9-427396949a58"
      },
      "source": [
        "# Create a function to get the subjectivity\n",
        "def getSubjectivity(text):\n",
        "   return TextBlob(text).sentiment.subjectivity\n",
        "\n",
        "# Create a function to get the polarity\n",
        "def getPolarity(text):\n",
        "   return  TextBlob(text).sentiment.polarity\n",
        "\n",
        "\n",
        "# Create two new columns 'Subjectivity' & 'Polarity'\n",
        "df['Subjectivity'] = df['Tweets'].apply(getSubjectivity)\n",
        "df['Polarity'] = df['Tweets'].apply(getPolarity)\n",
        "\n",
        "# Show the new dataframe with columns 'Subjectivity' & 'Polarity'\n",
        "df"
      ],
      "execution_count": 7,
      "outputs": [
        {
          "output_type": "execute_result",
          "data": {
            "text/html": [
              "<div>\n",
              "<style scoped>\n",
              "    .dataframe tbody tr th:only-of-type {\n",
              "        vertical-align: middle;\n",
              "    }\n",
              "\n",
              "    .dataframe tbody tr th {\n",
              "        vertical-align: top;\n",
              "    }\n",
              "\n",
              "    .dataframe thead th {\n",
              "        text-align: right;\n",
              "    }\n",
              "</style>\n",
              "<table border=\"1\" class=\"dataframe\">\n",
              "  <thead>\n",
              "    <tr style=\"text-align: right;\">\n",
              "      <th></th>\n",
              "      <th>Tweets</th>\n",
              "      <th>Subjectivity</th>\n",
              "      <th>Polarity</th>\n",
              "    </tr>\n",
              "  </thead>\n",
              "  <tbody>\n",
              "    <tr>\n",
              "      <th>0</th>\n",
              "      <td>: Last month, over 1 billion students were aff...</td>\n",
              "      <td>0.066667</td>\n",
              "      <td>0.000000</td>\n",
              "    </tr>\n",
              "    <tr>\n",
              "      <th>1</th>\n",
              "      <td>Our foundation is partnering with  to support ...</td>\n",
              "      <td>0.250000</td>\n",
              "      <td>0.100000</td>\n",
              "    </tr>\n",
              "    <tr>\n",
              "      <th>2</th>\n",
              "      <td>I always look forward to meeting Washington’s ...</td>\n",
              "      <td>0.707143</td>\n",
              "      <td>0.602381</td>\n",
              "    </tr>\n",
              "    <tr>\n",
              "      <th>3</th>\n",
              "      <td>Bill Foege was instrumental in the effort to e...</td>\n",
              "      <td>0.300000</td>\n",
              "      <td>0.000000</td>\n",
              "    </tr>\n",
              "    <tr>\n",
              "      <th>4</th>\n",
              "      <td>The world did not do enough to prepare for a p...</td>\n",
              "      <td>0.528472</td>\n",
              "      <td>0.025000</td>\n",
              "    </tr>\n",
              "    <tr>\n",
              "      <th>...</th>\n",
              "      <td>...</td>\n",
              "      <td>...</td>\n",
              "      <td>...</td>\n",
              "    </tr>\n",
              "    <tr>\n",
              "      <th>95</th>\n",
              "      <td>We’re hopeful that our foundation’s work with ...</td>\n",
              "      <td>0.657778</td>\n",
              "      <td>0.131111</td>\n",
              "    </tr>\n",
              "    <tr>\n",
              "      <th>96</th>\n",
              "      <td>It was a magical night. I'm very happy to supp...</td>\n",
              "      <td>0.966667</td>\n",
              "      <td>0.800000</td>\n",
              "    </tr>\n",
              "    <tr>\n",
              "      <th>97</th>\n",
              "      <td>Vaccines are a miracle. But how exactly do the...</td>\n",
              "      <td>0.416667</td>\n",
              "      <td>0.283333</td>\n",
              "    </tr>\n",
              "    <tr>\n",
              "      <th>98</th>\n",
              "      <td>Science is giving us the opportunity to improv...</td>\n",
              "      <td>0.333333</td>\n",
              "      <td>-0.166667</td>\n",
              "    </tr>\n",
              "    <tr>\n",
              "      <th>99</th>\n",
              "      <td>This is an incredible story about the power of...</td>\n",
              "      <td>0.500000</td>\n",
              "      <td>0.400000</td>\n",
              "    </tr>\n",
              "  </tbody>\n",
              "</table>\n",
              "<p>100 rows × 3 columns</p>\n",
              "</div>"
            ],
            "text/plain": [
              "                                               Tweets  Subjectivity  Polarity\n",
              "0   : Last month, over 1 billion students were aff...      0.066667  0.000000\n",
              "1   Our foundation is partnering with  to support ...      0.250000  0.100000\n",
              "2   I always look forward to meeting Washington’s ...      0.707143  0.602381\n",
              "3   Bill Foege was instrumental in the effort to e...      0.300000  0.000000\n",
              "4   The world did not do enough to prepare for a p...      0.528472  0.025000\n",
              "..                                                ...           ...       ...\n",
              "95  We’re hopeful that our foundation’s work with ...      0.657778  0.131111\n",
              "96  It was a magical night. I'm very happy to supp...      0.966667  0.800000\n",
              "97  Vaccines are a miracle. But how exactly do the...      0.416667  0.283333\n",
              "98  Science is giving us the opportunity to improv...      0.333333 -0.166667\n",
              "99  This is an incredible story about the power of...      0.500000  0.400000\n",
              "\n",
              "[100 rows x 3 columns]"
            ]
          },
          "metadata": {
            "tags": []
          },
          "execution_count": 7
        }
      ]
    },
    {
      "cell_type": "code",
      "metadata": {
        "id": "KobFM9DCBr-Y",
        "colab_type": "code",
        "colab": {
          "base_uri": "https://localhost:8080/",
          "height": 248
        },
        "outputId": "7255ea5b-bef0-4a06-ea24-4a51dba4999f"
      },
      "source": [
        "# word cloud visualization\n",
        "allWords = ' '.join([twts for twts in df['Tweets']])\n",
        "wordCloud = WordCloud(width=500, height=300, random_state=21, max_font_size=110).generate(allWords)\n",
        "\n",
        "\n",
        "plt.imshow(wordCloud, interpolation=\"bilinear\")\n",
        "plt.axis('off')\n",
        "plt.show()"
      ],
      "execution_count": 8,
      "outputs": [
        {
          "output_type": "display_data",
          "data": {
            "image/png": "[encoded data removed]",
            "text/plain": [
              "<Figure size 432x288 with 1 Axes>"
            ]
          },
          "metadata": {
            "tags": [],
            "needs_background": "light"
          }
        }
      ]
    },
    {
      "cell_type": "code",
      "metadata": {
        "id": "9aPIbGE4DJIg",
        "colab_type": "code",
        "colab": {
          "base_uri": "https://localhost:8080/",
          "height": 402
        },
        "outputId": "8aa7b5b7-5053-4648-bc8f-a627f73029dc"
      },
      "source": [
        "# Create a function to compute negative (-1), neutral (0) and positive (+1) analysis\n",
        "def getAnalysis(score):\n",
        "  if score < 0:\n",
        "    return 'Negative'\n",
        "  elif score == 0:\n",
        "    return 'Neutral'\n",
        "  else:\n",
        "    return 'Positive'\n",
        "     \n",
        "df['Analysis'] = df['Polarity'].apply(getAnalysis)\n",
        "# Show the dataframe\n",
        "df"
      ],
      "execution_count": 18,
      "outputs": [
        {
          "output_type": "execute_result",
          "data": {
            "text/html": [
              "<div>\n",
              "<style scoped>\n",
              "    .dataframe tbody tr th:only-of-type {\n",
              "        vertical-align: middle;\n",
              "    }\n",
              "\n",
              "    .dataframe tbody tr th {\n",
              "        vertical-align: top;\n",
              "    }\n",
              "\n",
              "    .dataframe thead th {\n",
              "        text-align: right;\n",
              "    }\n",
              "</style>\n",
              "<table border=\"1\" class=\"dataframe\">\n",
              "  <thead>\n",
              "    <tr style=\"text-align: right;\">\n",
              "      <th></th>\n",
              "      <th>Tweets</th>\n",
              "      <th>Subjectivity</th>\n",
              "      <th>Polarity</th>\n",
              "      <th>Analysis</th>\n",
              "    </tr>\n",
              "  </thead>\n",
              "  <tbody>\n",
              "    <tr>\n",
              "      <th>0</th>\n",
              "      <td>: Last month, over 1 billion students were aff...</td>\n",
              "      <td>0.066667</td>\n",
              "      <td>0.000000</td>\n",
              "      <td>Neutral</td>\n",
              "    </tr>\n",
              "    <tr>\n",
              "      <th>1</th>\n",
              "      <td>Our foundation is partnering with  to support ...</td>\n",
              "      <td>0.250000</td>\n",
              "      <td>0.100000</td>\n",
              "      <td>Positive</td>\n",
              "    </tr>\n",
              "    <tr>\n",
              "      <th>2</th>\n",
              "      <td>I always look forward to meeting Washington’s ...</td>\n",
              "      <td>0.707143</td>\n",
              "      <td>0.602381</td>\n",
              "      <td>Positive</td>\n",
              "    </tr>\n",
              "    <tr>\n",
              "      <th>3</th>\n",
              "      <td>Bill Foege was instrumental in the effort to e...</td>\n",
              "      <td>0.300000</td>\n",
              "      <td>0.000000</td>\n",
              "      <td>Neutral</td>\n",
              "    </tr>\n",
              "    <tr>\n",
              "      <th>4</th>\n",
              "      <td>The world did not do enough to prepare for a p...</td>\n",
              "      <td>0.528472</td>\n",
              "      <td>0.025000</td>\n",
              "      <td>Positive</td>\n",
              "    </tr>\n",
              "    <tr>\n",
              "      <th>...</th>\n",
              "      <td>...</td>\n",
              "      <td>...</td>\n",
              "      <td>...</td>\n",
              "      <td>...</td>\n",
              "    </tr>\n",
              "    <tr>\n",
              "      <th>95</th>\n",
              "      <td>We’re hopeful that our foundation’s work with ...</td>\n",
              "      <td>0.657778</td>\n",
              "      <td>0.131111</td>\n",
              "      <td>Positive</td>\n",
              "    </tr>\n",
              "    <tr>\n",
              "      <th>96</th>\n",
              "      <td>It was a magical night. I'm very happy to supp...</td>\n",
              "      <td>0.966667</td>\n",
              "      <td>0.800000</td>\n",
              "      <td>Positive</td>\n",
              "    </tr>\n",
              "    <tr>\n",
              "      <th>97</th>\n",
              "      <td>Vaccines are a miracle. But how exactly do the...</td>\n",
              "      <td>0.416667</td>\n",
              "      <td>0.283333</td>\n",
              "      <td>Positive</td>\n",
              "    </tr>\n",
              "    <tr>\n",
              "      <th>98</th>\n",
              "      <td>Science is giving us the opportunity to improv...</td>\n",
              "      <td>0.333333</td>\n",
              "      <td>-0.166667</td>\n",
              "      <td>Negative</td>\n",
              "    </tr>\n",
              "    <tr>\n",
              "      <th>99</th>\n",
              "      <td>This is an incredible story about the power of...</td>\n",
              "      <td>0.500000</td>\n",
              "      <td>0.400000</td>\n",
              "      <td>Positive</td>\n",
              "    </tr>\n",
              "  </tbody>\n",
              "</table>\n",
              "<p>100 rows × 4 columns</p>\n",
              "</div>"
            ],
            "text/plain": [
              "                                               Tweets  ...  Analysis\n",
              "0   : Last month, over 1 billion students were aff...  ...   Neutral\n",
              "1   Our foundation is partnering with  to support ...  ...  Positive\n",
              "2   I always look forward to meeting Washington’s ...  ...  Positive\n",
              "3   Bill Foege was instrumental in the effort to e...  ...   Neutral\n",
              "4   The world did not do enough to prepare for a p...  ...  Positive\n",
              "..                                                ...  ...       ...\n",
              "95  We’re hopeful that our foundation’s work with ...  ...  Positive\n",
              "96  It was a magical night. I'm very happy to supp...  ...  Positive\n",
              "97  Vaccines are a miracle. But how exactly do the...  ...  Positive\n",
              "98  Science is giving us the opportunity to improv...  ...  Negative\n",
              "99  This is an incredible story about the power of...  ...  Positive\n",
              "\n",
              "[100 rows x 4 columns]"
            ]
          },
          "metadata": {
            "tags": []
          },
          "execution_count": 18
        }
      ]
    },
    {
      "cell_type": "code",
      "metadata": {
        "id": "7PQ4k-YFFFoy",
        "colab_type": "code",
        "colab": {
          "base_uri": "https://localhost:8080/",
          "height": 1000
        },
        "outputId": "961d65a3-a3d4-495e-b506-676d594eb724"
      },
      "source": [
        "# Printing positive tweets \n",
        "print('Printing positive tweets:\\n')\n",
        "j=1\n",
        "sortedDF = df.sort_values(by=['Polarity']) #Sort the tweets\n",
        "for i in range(0, sortedDF.shape[0] ):\n",
        "  if( sortedDF['Analysis'][i] == 'Positive'):\n",
        "    print(str(j) + ') '+ sortedDF['Tweets'][i])\n",
        "    print()\n",
        "    j= j+1"
      ],
      "execution_count": 19,
      "outputs": [
        {
          "output_type": "stream",
          "text": [
            "Printing positive tweets:\n",
            "\n",
            "1) Our foundation is partnering with  to support teachers as they get ready to go back to school—in whatever form that takes—and will boost your donations to the classroom project of your choice today. \n",
            "\n",
            "2) I always look forward to meeting Washington’s Teacher of the Year. This year’s recipient, Amy Campbell (_MrsCampbell), is a remarkable advocate for her students, and I loved learning about her approach to teaching special ed. \n",
            "\n",
            "3) The world did not do enough to prepare for a pandemic. We can avoid making the same mistake with climate change by:\n",
            "\n",
            "1. Letting science and innovation lead the way\n",
            "2. Making sure solutions work for poor countries too\n",
            "3. Getting started now\n",
            "\n",
            "\n",
            "\n",
            "4) Great tips from _Bergstrom about how to find reliable sources of information and test claims you may see about the pandemic in your social media feeds. \n",
            "\n",
            "5) The impacts of COVID-19 are driving worrying increases in malnutrition and health outcomes. However, there are clear actions that can be taken in both the near- and long-term. \n",
            "\n",
            "6) In these challenging times, we can’t lose sight of the importance of combatting climate change. I’m excited to hear about how companies like  are finding a way to play a role. \n",
            "\n",
            "7) It’s important that we continue to follow scientific data as we look for new tools to aid in the fight against coronavirus.  \n",
            "\n",
            "8) It’s hard to overstate how important finding a reliable, affordable, and easy-to-use diagnostic is for stopping Alzheimer’s. This is a big step towards that goal. \n",
            "\n",
            "9) \"Our best strategy in the age-old fight against the germs is our collaborative, data-based effort to study the world around us and within us. Our best strategy is science.\"  explains how vaccines have dramatically improved humanity’s ability to fight infectious disease. \n",
            "\n",
            "10) : Not many of us get to live to see our own legacy play out in such a meaningful, remarkable way. John Lewis did:\n",
            "\n",
            "\n",
            "\n",
            "11) This is a great loss for America, and for everyone who believes in making the world a more just place. John Lewis not only saw that our country could be better--he never stopped working to make it that way. We need leaders like him more than ever. \n",
            "\n",
            "12) : Decision-makers can take steps right now to make sure the world recovers from this pandemic stronger, more prepared &amp; mor…\n",
            "\n",
            "13) This hero is playing a critical role in Kenya’s preparations to tackle COVID-19 by scaling up medical oxygen supplies that will be needed to keep the most critically ill patients alive. \n",
            "\n",
            "14) : Happy Juneteenth fam! My latest for the . Find joy today! The images from the article alone are giving me l…\n",
            "\n",
            "15) : Proud to share my thoughts in ’s “injustice issue” on (and for) our beloved young people I call the TrayvonGene…\n",
            "\n",
            "16) : Opal is 93 years old and a great interview. Take a listen \n",
            "\n",
            "17) I am committed to listening and learning more about systemic racism and what I can do with my actions and words to help create a more equal and just future. Black lives matter.\n",
            "\n",
            "18) : Today world leaders pledged to fully support ’s mission to give more children access to lifesaving vaccines and b…\n",
            "\n",
            "19) I continue to be inspired by all of the volunteers (including many retired health care workers and teachers) on the front lines of the fight against coronavirus each day. \n",
            "\n",
            "20) Here are five books to read this summer if you want to learn more about pandemics or are looking for a distraction:  \n",
            "\n",
            "21) Melinda recommended that I read The Choice, and I’m glad she did. I think many people will find comfort right now from Dr. Edith Eva Eger's suggestions on how to handle difficult situations. \n",
            "\n",
            "22) Today is RedNoseDay. Their work has made an incredible impact to reduce child poverty in the US and around the world. \n",
            "\n",
            "23) The 1918 influenza outbreak is the closest comparison to what we’re living through right now. John Barry does a great job explaining the realities and lessons of that devastating pandemic. \n",
            "\n",
            "24) Most of my conversations these days are about COVID-19 and how we can stem the tide, but I’m also often asked about what I am reading and watching. Here are my 2020 summer book recommendations (plus a few other ideas for things to do at home). \n",
            "\n",
            "25)   Thank you for the conversation and partnership, . Combating the pandemic requires global collaboration. India’s role is key as the world works to minimize social and economic impact, and pave the way to vaccine, testing, and treatment access for all. \n",
            "\n",
            "26) : When will America be able to get back to work? \n",
            "\n",
            "The answer depends on whether workers have caregiving options they can r…\n",
            "\n",
            "27) Humankind has never had a more urgent task than creating broad immunity for coronavirus. It’s going to require a global cooperative effort like the world has never seen. But I know we’ll get it done. There’s simply no alternative. \n",
            "\n",
            "28) : Developing a vaccine against COVID19 is among the first steps to a solution.\n",
            "\n",
            "Distributing the vaccine safely, effect…\n",
            "\n",
            "29) We don't yet have all the tools we need to stop the novel coronavirus and safely re-open the economy. But they are on the horizon. \n",
            "\n",
            "30) This is a great introduction to computer science concepts for students at all levels. I’m looking forward to joining today’s Code Break. \n",
            "\n",
            "31) . does an amazing job capturing the heroism of the health care workers on the front lines of the coronavirus fight. \n",
            "\n",
            "32) On WorldHealthDay — and every day — I want to thank all of the health heroes for their sacrifices and for keeping us safe. \n",
            "\n",
            "33) It’s encouraging to see the first projects begin from our effort to accelerate safe and effective drugs for COVID19. \n",
            "\n",
            "34) I’m excited to join the  Daily Homeroom today to talk about the incredible ways parents, teachers, and students are coming together to keep learning while schools are closed. \n",
            "\n",
            "35) If we make the right decisions now—informed by science, data and the experience of medical professionals—we can save lives and get the country back to work. You can read more about my thoughts on COVID19 on my blog. \n",
            "\n",
            "36) In the meantime, frontline health care workers are making heroic efforts to test and treat patients across the United States and the world. Here in my hometown, Public Health Seattle &amp; King County () is doing incredible work that we should all be very proud of.\n",
            "\n",
            "37) All the work that rich countries are doing now to develop vaccines will save lives in developing countries too. Without a vaccine, those countries are at even greater risk than wealthy ones, because it’s even harder for them to do physical distancing and shutdowns.\n",
            "\n",
            "38) If everything goes well, there might be an effective vaccine in less than 18 months—the fastest a vaccine has ever been developed. That will depend on decisions we make today, including the federal government investing in building up manufacturing capacity.\n",
            "\n",
            "39) Work is going full speed on potential treatments, and vaccines. But people should know that it will take time to prove they are safe and effective and to start making them.\n",
            "\n",
            "40) There’s been some progress on more efficient testing methods, such as the self-swab developed by the Seattle Coronavirus Assessment Network. I hope this and other innovations in testing are scaled up across the country soon. \n",
            "\n",
            "41) The federal government needs to step up on testing: far more tests should be made available, and we should aggregate the results so we can quickly identify potential volunteers for clinical trials and know with confidence when it’s time to return to normal.\n",
            "\n",
            "42) There’s no question the United States missed the opportunity to get ahead of the novel coronavirus. But the window for making important decisions hasn’t closed. The choices we and our leaders make now will have an enormous impact. \n",
            "\n",
            "43) I’m inspired by the generosity of everyone who has contributed to this effort to help keep kids learning at home. Thank you to  and especially the educators who are doing amazing things for their students every day. \n",
            "\n",
            "44) One of the questions I am most often asked about the COVID19 pandemic is how, and when, it will end. This article by 209 does a really good job of outlining the steps we need to take. \n",
            "\n",
            "45) This impressive new tool from _UW will help hospitals, policymakers, and the general public better understand and prepare for the COVID19 response in the U.S. \n",
            "\n",
            "46) This is encouraging news, but we still have a lot of work to do. Extreme physical distancing and testing are the best tools we have right now to slow the spread of novel coronavirus. \n",
            "\n",
            "47) There are few people I’ve learned more from over the years–especially about viruses–than Peter Piot. This Q&amp;A with him is an excellent, easy-to-understand primer on COVID19:  \n",
            "\n",
            "48) I’ve been impressed by governors across the country including , , , , , and the many others who are guiding their communities through this challenge and providing a model for us all to follow.\n",
            "\n",
            "49) Thanks to Norway and Prime Minister _solberg for their ongoing leadership in global health and important investments in vaccines. \n",
            "\n",
            "50) The international response will require funding for ’s development of a COVID-19 vaccine and for . Thanks to  and the UK for this vital commitment. \n",
            "\n",
            "51) Lots of people in Seattle have asked how they can help those impacted by COVID19 locally.  has done a great job identifying organizations who are already on the ground and deploying resources quickly to help our friends and neighbors:  \n",
            "\n",
            "52) Thanks for your leadership, . This is an inspiring contribution and will make a big difference for families. \n",
            "\n",
            "53) Teachers are doing incredible work to keep kids learning while at home. To help get supplies to those most in need, Melinda and I will double your impact, up to $1 million total, when you give to  coronavirus relief effort today and tomorrow. \n",
            "\n",
            "54) I’m connecting live with  and  to talk about what our healthcare systems need to tackle the COVID19 pandemic and prepare for future epidemics. \n",
            "\n",
            "55) Thanks  for joining me yesterday to discuss the COVID19 pandemic and what we can do to prevent the next one. Here's a recap of the conversation:  \n",
            "\n",
            "56) I know many parents are looking for resources and ideas to help their kids continue learning while home.  has created daily schedules with interactive content--exercises, videos and articles--for students in every grade. \n",
            "\n",
            "57) We don’t yet have all the tools we need to fight COVID-19. This is an important step toward having treatments, while we also explore vaccines and diagnostics. Thanks to  and  for launching this effort with us. \n",
            "\n",
            "58) COVID-19 could be a once-in-a-century pandemic, but the good news is that there are steps we can take now to slow its impact and help us respond more effectively when the next epidemic arrives. COVID19 \n",
            "\n",
            "59) 1 in 4 children under five in South Africa are stunted. The  Campaign is empowering new and pregnant moms to keep their children healthy. Here’s why I’m optimistic that they can make an impact:  \n",
            "\n",
            "60) Melinda and I have met many stunted children in our travels. It’s heartbreaking and utterly preventable. Dr.  is leading an incredible effort to eliminate child stunting from South Africa over the next decade. \n",
            "\n",
            "61) Diseases that cause dementia are only diagnosed after symptoms start. To effectively treat these diseases, we need to be able to diagnose them decades earlier when they first take hold in the brain. \n",
            "\n",
            "62) We’re hopeful that our foundation’s work with Networks for School Improvement will help increase the number of Black, Latinx, and low-income students who graduate from high school and pursue postsecondary opportunities. Here’s why that’s so important:  \n",
            "\n",
            "63) It was a magical night. I'm very happy to support your foundation's incredible work. \n",
            "\n",
            "64) Vaccines are a miracle. But how exactly do they work? I explain the science behind vaccines and why our foundation’s investment in them is one of the best we’ve ever made:  \n",
            "\n",
            "65) This is an incredible story about the power of vaccines. 13 million people are alive today thanks to . Here’s how:  \n",
            "\n"
          ],
          "name": "stdout"
        }
      ]
    },
    {
      "cell_type": "code",
      "metadata": {
        "id": "9HIsiHyiGdri",
        "colab_type": "code",
        "colab": {
          "base_uri": "https://localhost:8080/",
          "height": 625
        },
        "outputId": "67e79a74-7fa3-4c9d-eb50-ede3cdfbe172"
      },
      "source": [
        "# Printing negative tweets  \n",
        "print('Printing negative tweets:\\n')\n",
        "j=1\n",
        "sortedDF = df.sort_values(by=['Polarity'],ascending=False) #Sort the tweets\n",
        "for i in range(0, sortedDF.shape[0] ):\n",
        "  if( sortedDF['Analysis'][i] == 'Negative'):\n",
        "    print(str(j) + ') '+sortedDF['Tweets'][i])\n",
        "    print()\n",
        "    j=j+1"
      ],
      "execution_count": 20,
      "outputs": [
        {
          "output_type": "stream",
          "text": [
            "Printing negative tweets:\n",
            "\n",
            "1) : Three lessons that have been central to the COVID19 response in South Africa, Liberia, &amp; other countries:\n",
            "🔸 Screening…\n",
            "\n",
            "2) Globally, a lack of medical oxygen–needed to treat pneumonia, malaria, and other diseases–leads to hundreds of thousands of deaths each year.  founded _Tele to address this often-overlooked challenge. \n",
            "\n",
            "3) : “It’s that clarity of language about the VALUE of black life in America that distinguishes Juneteenth as emancipation…\n",
            "\n",
            "4) : “Only those feigning blindness fail to see the body of work we are, and the work of body we have done. \n",
            "\n",
            "Everything is what it is…\n",
            "\n",
            "5) : Juneteenth recognizes &amp; celebrates Black people’s freedom and the end of slavery in the US!  19 Jun 1865 Union Army Genera…\n",
            "\n",
            "6) _Nyongo: 1. This is Opal Lee, the force behind the movement to make Juneteenth a national holiday. Also known as Freedom Day, it…\n",
            "\n",
            "7) …in policing, criminal justice, education, health care, housing, the workplace and all other areas of their lives.\n",
            "\n",
            "8) The horrifying killings of George Floyd, Ahmaud Arbery, Breonna Taylor and far too many other Black people—and the protests they sparked—are shining a light on the brutal injustices that Black people experience every day…\n",
            "\n",
            "9) : The video of George Floyd’s brutal death broke my heart. I’ve watched the protests that followed and have felt overwhelme…\n",
            "\n",
            "10) I’m hopeful that this program will improve our understanding of the coronavirus outbreak in Seattle and provide valuable information about the virus for other communities around the world. \n",
            "\n",
            "11) Class of 2020, these are not easy times. But we will get through them. And with your leadership, the world will be stronger than before. \n",
            "\n",
            "12) Halting funding for the World Health Organization during a world health crisis is as dangerous as it sounds. Their work is slowing the spread of COVID-19 and if that work is stopped no other organization can replace them. The world needs  now more than ever.\n",
            "\n",
            "13) I always enjoy chatting with , even though we had to sit a little bit further apart than usual this time. \n",
            "\n",
            "14) Extreme physical distancing measures will make a big difference in the U.S., but we need a consistent nationwide approach. Until the case numbers start to go down across America—which could take 10 weeks or more—no one can continue business as usual or relax the shutdown.\n",
            "\n",
            "15) Science is giving us the opportunity to improve lives around the world faster than ever before. Today I was honored to give a speech on this subject at the  annual meeting. AAASmtg \n",
            "\n"
          ],
          "name": "stdout"
        }
      ]
    },
    {
      "cell_type": "code",
      "metadata": {
        "id": "A_3SoDT2GmOn",
        "colab_type": "code",
        "colab": {
          "base_uri": "https://localhost:8080/",
          "height": 405
        },
        "outputId": "9b161ce8-9787-48c1-ca86-3ebcce188435"
      },
      "source": [
        "# Plotting \n",
        "plt.figure(figsize=(8,6)) \n",
        "for i in range(0, df.shape[0]):\n",
        "  plt.scatter(df[\"Polarity\"][i], df[\"Subjectivity\"][i], color='Blue') \n",
        "# plt.scatter(x,y,color)   \n",
        "plt.title('Sentiment Analysis') \n",
        "plt.xlabel('Polarity') \n",
        "plt.ylabel('Subjectivity') \n",
        "plt.show()"
      ],
      "execution_count": 21,
      "outputs": [
        {
          "output_type": "display_data",
          "data": {
            "image/png": "[encoded data removed]",
            "text/plain": [
              "<Figure size 576x432 with 1 Axes>"
            ]
          },
          "metadata": {
            "tags": [],
            "needs_background": "light"
          }
        }
      ]
    },
    {
      "cell_type": "code",
      "metadata": {
        "id": "Tc2aFQLlGxYp",
        "colab_type": "code",
        "colab": {
          "base_uri": "https://localhost:8080/",
          "height": 34
        },
        "outputId": "02b73816-59d1-4aca-e906-0c49cbdef20e"
      },
      "source": [
        "# Print the percentage of positive tweets\n",
        "ptweets = df[df.Analysis == 'Positive']\n",
        "ptweets = ptweets['Tweets']\n",
        "ptweets\n",
        "\n",
        "round( (ptweets.shape[0] / df.shape[0]) * 100 , 1)"
      ],
      "execution_count": 22,
      "outputs": [
        {
          "output_type": "execute_result",
          "data": {
            "text/plain": [
              "65.0"
            ]
          },
          "metadata": {
            "tags": []
          },
          "execution_count": 22
        }
      ]
    },
    {
      "cell_type": "code",
      "metadata": {
        "id": "wGdCKNLMG6bx",
        "colab_type": "code",
        "colab": {
          "base_uri": "https://localhost:8080/",
          "height": 34
        },
        "outputId": "13694ad6-d16a-4c99-aa87-4b2373b22819"
      },
      "source": [
        "# Print the percentage of negative tweets\n",
        "ntweets = df[df.Analysis == 'Negative']\n",
        "ntweets = ntweets['Tweets']\n",
        "ntweets\n",
        "\n",
        "round( (ntweets.shape[0] / df.shape[0]) * 100, 1)"
      ],
      "execution_count": 23,
      "outputs": [
        {
          "output_type": "execute_result",
          "data": {
            "text/plain": [
              "15.0"
            ]
          },
          "metadata": {
            "tags": []
          },
          "execution_count": 23
        }
      ]
    },
    {
      "cell_type": "code",
      "metadata": {
        "id": "HWaPtI5XHBRy",
        "colab_type": "code",
        "colab": {
          "base_uri": "https://localhost:8080/",
          "height": 84
        },
        "outputId": "c4794263-8f98-4f22-99c9-7eec435a5747"
      },
      "source": [
        "# Show the value counts\n",
        "df['Analysis'].value_counts()"
      ],
      "execution_count": 24,
      "outputs": [
        {
          "output_type": "execute_result",
          "data": {
            "text/plain": [
              "Positive    65\n",
              "Neutral     20\n",
              "Negative    15\n",
              "Name: Analysis, dtype: int64"
            ]
          },
          "metadata": {
            "tags": []
          },
          "execution_count": 24
        }
      ]
    },
    {
      "cell_type": "code",
      "metadata": {
        "id": "1MmsfmP-HKfB",
        "colab_type": "code",
        "colab": {
          "base_uri": "https://localhost:8080/",
          "height": 331
        },
        "outputId": "e5e771d9-a1b7-4f63-8274-35907538c5c0"
      },
      "source": [
        "# Plotting and visualizing the counts\n",
        "plt.title('Sentiment Analysis')\n",
        "plt.xlabel('Sentiment')\n",
        "plt.ylabel('Counts')\n",
        "df['Analysis'].value_counts().plot(kind = 'bar')\n",
        "plt.show()"
      ],
      "execution_count": 25,
      "outputs": [
        {
          "output_type": "display_data",
          "data": {
            "image/png": "[encoded data removed]",
            "text/plain": [
              "<Figure size 432x288 with 1 Axes>"
            ]
          },
          "metadata": {
            "tags": [],
            "needs_background": "light"
          }
        }
      ]
    },
    {
      "cell_type": "code",
      "metadata": {
        "id": "NEbY5SRvHUQs",
        "colab_type": "code",
        "colab": {}
      },
      "source": [
        ""
      ],
      "execution_count": null,
      "outputs": []
    }
  ]
}